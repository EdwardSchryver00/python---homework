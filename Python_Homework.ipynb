{
 "cells": [
  {
   "cell_type": "code",
   "execution_count": 7,
   "id": "52c0e203-fdf0-42b8-a133-b49870700d01",
   "metadata": {},
   "outputs": [],
   "source": [
    "# Import the necessary libraries for reading csv files\n",
    "from pathlib import Path\n",
    "import csv\n",
    "\n",
    "# Set shortcut for location of file being used\n",
    "csvpath = Path(\"budget_data.csv\")\n"
   ]
  },
  {
   "cell_type": "code",
   "execution_count": 8,
   "id": "6e831f4a-257a-4c7a-9ce2-4143721b6bf3",
   "metadata": {},
   "outputs": [],
   "source": [
    "# Declare variables for total number of months and total profit/loss in dataset\n",
    "count = 0\n",
    "total = 0\n",
    "\n",
    "\n",
    "# Initialize empty lists for months and profit and loss and finally the monthly profit change\n",
    "months_list = []\n",
    "profit_loss_list = []\n",
    "profit_change = []\n",
    "\n",
    "\n",
    "\n"
   ]
  },
  {
   "cell_type": "code",
   "execution_count": 9,
   "id": "26f74be2-1e29-48ac-ae14-e7f19f8076b9",
   "metadata": {},
   "outputs": [
    {
     "name": "stdout",
     "output_type": "stream",
     "text": [
      "Financial Analysis\n",
      "--------------------------\n",
      "Total Months 86\n",
      "Total: $38382578\n",
      "Average Change: $-2315.12\n",
      "Greatest Increase in Profits: Feb-2012 ($1926159)\n",
      "Greatest Decrease in Profits: Feb-2012 ($-2196167)\n"
     ]
    }
   ],
   "source": [
    "# Open the csv\n",
    "with open(csvpath, newline=\"\") as csvfile:\n",
    "    \n",
    "    # Pass in the csv file to the csv.reader() function\n",
    "    # (with ',' as the delmiter/separator) and return the csvreader object\n",
    "    csvreader = csv.reader(csvfile, delimiter=\",\")\n",
    "    \n",
    "    # Skip the header\n",
    "    csv_header = next(csvreader)\n",
    "    \n",
    "    # create for loop to iterate through dataset\n",
    "    for row in csvreader:\n",
    "        \n",
    "        # identify that month is the first column\n",
    "        month = row[0]\n",
    "        \n",
    "        # identify that profit/loss is the second column and that the data is in integer format\n",
    "        profit_loss = int(row[1])\n",
    "        \n",
    "        # create two separate lists and add months to first list; profit/loss to second list\n",
    "        months_list.append(month)\n",
    "        profit_loss_list.append(profit_loss)\n",
    "        \n",
    "        # find total number of months is dataset\n",
    "        count +=1\n",
    "        \n",
    "        # find total profit/loss in dataset\n",
    "        total += profit_loss\n",
    "        \n",
    "    # Create for loop to iterate through dataset and calculate change in profits over each month\n",
    "    for x in range(len(profit_loss_list)-1):\n",
    "        \n",
    "        # Calculate difference between months and create new list containing that data\n",
    "        profit_change.append(profit_loss_list[x+1] - profit_loss_list[x])\n",
    "        \n",
    "# Calculate the greatest monthly increase and decrease \n",
    "max_increase = max(profit_change)\n",
    "max_decrease = min(profit_change)\n",
    "\n",
    "# Find out month with greatest increase and decrease\n",
    "max_month = profit_change.index(max(profit_change)) + 1\n",
    "min_month = profit_change.index(max(profit_change)) + 1\n",
    "\n",
    "# Print Results\n",
    "\n",
    "print(\"Financial Analysis\")\n",
    "print(\"--------------------------\")\n",
    "print(f\"Total Months {count}\")\n",
    "print(f\"Total: ${total}\")\n",
    "print(f\"Average Change: ${round(sum(profit_change) / len(profit_change),2)}\")\n",
    "print(f\"Greatest Increase in Profits: {months_list[max_month]} (${(str(max_increase))})\")\n",
    "print(f\"Greatest Decrease in Profits: {months_list[min_month]} (${(str(max_decrease))})\")\n",
    "    \n",
    "        \n",
    "\n",
    "        \n",
    "        \n",
    "    \n",
    "    \n",
    "    \n",
    "        \n",
    "\n",
    "        \n",
    "        \n"
   ]
  },
  {
   "cell_type": "code",
   "execution_count": null,
   "id": "fd7af786-552c-42f2-816f-fecc7f8d3cc4",
   "metadata": {},
   "outputs": [],
   "source": []
  }
 ],
 "metadata": {
  "kernelspec": {
   "display_name": "Python 3 (ipykernel)",
   "language": "python",
   "name": "python3"
  },
  "language_info": {
   "codemirror_mode": {
    "name": "ipython",
    "version": 3
   },
   "file_extension": ".py",
   "mimetype": "text/x-python",
   "name": "python",
   "nbconvert_exporter": "python",
   "pygments_lexer": "ipython3",
   "version": "3.8.8"
  }
 },
 "nbformat": 4,
 "nbformat_minor": 5
}
